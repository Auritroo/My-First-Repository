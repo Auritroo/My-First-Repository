{
  "metadata": {
    "kernelspec": {
      "name": "python",
      "display_name": "Python (Pyodide)",
      "language": "python"
    },
    "language_info": {
      "codemirror_mode": {
        "name": "python",
        "version": 3
      },
      "file_extension": ".py",
      "mimetype": "text/x-python",
      "name": "python",
      "nbconvert_exporter": "python",
      "pygments_lexer": "ipython3",
      "version": "3.8"
    }
  },
  "nbformat_minor": 5,
  "nbformat": 4,
  "cells": [
    {
      "id": "3064e376-1a78-42cb-b8c4-d39c19fa87f7",
      "cell_type": "code",
      "source": "class Alcohol:\n    def __init__(self, Alcpercentage, Color):\n        self.Alcpercentage= int(Alcpercentage)\n        self.Color= str(Color)\n    def add_coke(self, Amount):\n        self.Alcpercentage += 15\n        \n\nVodka = Alcohol(30, 'White')\nprint(f'Initial Drunk Feels like {Vodka.Alcpercentage}%')    \nVodka.add_coke(0)\nprint(f'Drunk after adding Diet Coke feels like {Vodka.Alcpercentage}%')",
      "metadata": {
        "trusted": true
      },
      "outputs": [
        {
          "name": "stdout",
          "output_type": "stream",
          "text": "Initial Drunk Feels like 30%\nDrunk after adding Diet Coke feels like 45%\n"
        }
      ],
      "execution_count": 1
    }
  ]
}